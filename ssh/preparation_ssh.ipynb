{
 "cells": [
  {
   "cell_type": "code",
   "execution_count": 1,
   "metadata": {},
   "outputs": [],
   "source": [
    "import json\n",
    "from collections import defaultdict\n",
    "from datetime import datetime, timedelta\n",
    "import csv\n",
    "import re\n",
    "import hashlib"
   ]
  },
  {
   "cell_type": "code",
   "execution_count": 3,
   "metadata": {},
   "outputs": [],
   "source": [
    "#FUNZIONI PER DARKTRACEROW\n",
    "\n",
    "def get_keys_from_record(record):\n",
    "    return set(record.keys())\n",
    "\n",
    "def count_record(path):\n",
    "    n_record=0\n",
    "    with open(path, 'r') as file:\n",
    "        for line in file:\n",
    "            n_record += 1\n",
    "    print(n_record)\n",
    "\n",
    "def count_attack(path):\n",
    "    n_record=0\n",
    "    with open(path, 'r') as file:\n",
    "        for line in file:\n",
    "            record = json.loads(line.strip())\n",
    "            if record['label']==1:\n",
    "                n_record += 1\n",
    "    print(n_record)\n",
    "\n",
    "\n",
    "def label_and_filter(path, new_path): #etichetta i record e filtra quelli richiesta/risposta\n",
    "    new_dataset = []\n",
    "    with open(path, 'r') as file:\n",
    "        for line in file:\n",
    "            record = json.loads(line.strip())\n",
    "            if record['source_ip']=='1ccdb898890cce841210e3fb0bcc3e7974f069ca89da96625e7b7699bf277165' and record['dest_ip']=='f4c36b35451f863e37f34989cca218a6e7c40d22f699aafeef3a6d7ae76a75a2':\n",
    "                record['label']=1\n",
    "            else:\n",
    "                record['label']=0\n",
    "            new_dataset.append(record)\n",
    "\n",
    "    with open(new_path, 'w') as file:\n",
    "        for record in new_dataset:\n",
    "            file.write(json.dumps(record) + '\\n')\n",
    "\n",
    "def common_keys(path): #stampa le chiavi che sono comuni a tutti i record e il numero di occorrenze delle chiavi non comuni\n",
    "    common_keys = None\n",
    "    all_keys = set()\n",
    "    key_occurrences = defaultdict(int)\n",
    "\n",
    "    with open(path, 'r') as file:\n",
    "        for line in file:\n",
    "            record = json.loads(line.strip())\n",
    "            record_keys = get_keys_from_record(record)\n",
    "            all_keys.update(record_keys)\n",
    "            for key in record_keys:\n",
    "                key_occurrences[key] += 1\n",
    "            if common_keys is None:\n",
    "                common_keys = record_keys\n",
    "            else:\n",
    "                common_keys &= record_keys\n",
    "\n",
    "    non_common_keys = all_keys - common_keys\n",
    "\n",
    "    non_common_key_counts = {key: key_occurrences[key] for key in non_common_keys}\n",
    "\n",
    "    sorted_non_common_key_counts = dict(sorted(non_common_key_counts.items(), key=lambda item: item[1], reverse=True))\n",
    "\n",
    "    print(\"Le chiavi comuni sono:\", common_keys)\n",
    "    print(\"Le chiavi non comuni sono:\", non_common_keys)\n",
    "    print(\"Numero di occorrenze delle chiavi non comuni:\", sorted_non_common_key_counts)"
   ]
  },
  {
   "cell_type": "code",
   "execution_count": 4,
   "metadata": {},
   "outputs": [
    {
     "name": "stdout",
     "output_type": "stream",
     "text": [
      "119278\n"
     ]
    }
   ],
   "source": [
    "new_path='../../../../enea/dati_simulazione/ssh_04_10_label.json'\n",
    "path='../../../../enea/dati_simulazione/ssh_04_10.json'\n",
    "count_record(path)"
   ]
  },
  {
   "cell_type": "code",
   "execution_count": 19,
   "metadata": {},
   "outputs": [
    {
     "name": "stdout",
     "output_type": "stream",
     "text": [
      "3633\n"
     ]
    }
   ],
   "source": [
    "count_attack(new_path)"
   ]
  },
  {
   "cell_type": "code",
   "execution_count": 4,
   "metadata": {},
   "outputs": [
    {
     "name": "stdout",
     "output_type": "stream",
     "text": [
      "Le chiavi comuni sono: {'epochdate', '@host', '@type', 'uid', 'dest_ip', 'source_port', 'source_ip', '@timestamp', 'status_guess', 'dest_port'}\n",
      "Le chiavi non comuni sono: {'direction', 'remote_location_latitude', 'host_key_alg', 'server', 'cipher_alg', 'mac_alg', 'host_key', 'remote_location_longitude', 'client', 'auth_attempts', 'auth_success', 'compression_alg', 'remote_location_country_code', 'version', 'kex_alg'}\n",
      "Numero di occorrenze delle chiavi non comuni: {'server': 108651, 'client': 102802, 'version': 102802, 'host_key_alg': 96060, 'cipher_alg': 96060, 'mac_alg': 96060, 'compression_alg': 96060, 'kex_alg': 96060, 'host_key': 91764, 'direction': 84533, 'auth_attempts': 40638, 'auth_success': 40638, 'remote_location_latitude': 19338, 'remote_location_longitude': 19338, 'remote_location_country_code': 19338}\n"
     ]
    }
   ],
   "source": [
    "common_keys(path)"
   ]
  },
  {
   "cell_type": "code",
   "execution_count": 11,
   "metadata": {},
   "outputs": [
    {
     "name": "stdout",
     "output_type": "stream",
     "text": [
      "3633\n"
     ]
    }
   ],
   "source": [
    "label_and_filter(path, new_path)"
   ]
  },
  {
   "cell_type": "code",
   "execution_count": 15,
   "metadata": {},
   "outputs": [],
   "source": [
    "#FUNZIONI PER DARKTRACEAI\n",
    "\n",
    "def get_keys_from_record_ai(record, parent_key=''):\n",
    "    keys = set()\n",
    "    if isinstance(record, dict):\n",
    "        for k, v in record.items():\n",
    "            new_key = f\"{parent_key}.{k}\" if parent_key else k\n",
    "            keys.add(new_key)\n",
    "            keys.update(get_keys_from_record_ai(v, new_key))\n",
    "    elif isinstance(record, list):\n",
    "        for i, item in enumerate(record):\n",
    "            new_key = f\"{parent_key}\"\n",
    "            keys.update(get_keys_from_record_ai(item, new_key))\n",
    "    return keys\n",
    "\n",
    "def find_all_ips(data, exclude_ips):# Funzione per trovare gli indirizzi IP nel JSON senza includere combinazioni IP:Porta e quelli in record[\"related\"][\"ip\"]\n",
    "    ip_set = set()\n",
    "    ip_pattern = re.compile(r'\\b(?:[0-9]{1,3}\\.){3}[0-9]{1,3}\\b')\n",
    "\n",
    "    def extract_ips(value):\n",
    "        if isinstance(value, dict):\n",
    "            for k, v in value.items():\n",
    "                extract_ips(v)\n",
    "        elif isinstance(value, list):\n",
    "            for item in value:\n",
    "                extract_ips(item)\n",
    "        elif isinstance(value, str):\n",
    "            if ip_pattern.fullmatch(value):# Verifica se il valore è esattamente un indirizzo IP e non parte di un'altra stringa\n",
    "                ip_set.add(value)\n",
    "\n",
    "    extract_ips(data)\n",
    "    ip_set -= exclude_ips  # Rimuove gli IP da escludere\n",
    "    return ip_set\n",
    "\n",
    "def read_json_file(file_path): # Funzione per leggere un file JSON riga per riga\n",
    "    data = []\n",
    "    with open(file_path, 'r') as file:\n",
    "        for line in file:\n",
    "            if line.strip():\n",
    "                try:\n",
    "                    record = json.loads(line.strip())\n",
    "                    data.append(record)\n",
    "                except json.JSONDecodeError as e:\n",
    "                    print(f\"Error decoding JSON on line: {line.strip()} - {e}\")\n",
    "    return data\n",
    "\n",
    "def write_json_file(data, file_path): # Funzione per scrivere un file JSON riga per riga\n",
    "    with open(file_path, 'w') as file:\n",
    "        for record in data:\n",
    "            json.dump(record, file)\n",
    "            file.write('\\n')\n",
    "\n",
    "def add_ip_to_record(source_path, dest_path):\n",
    "    data = read_json_file(source_path) # Leggere il file originale\n",
    "   \n",
    "    for record in data: # Aggiornare i record con i nuovi IP\n",
    "        exclude_ips = set(record.get(\"related\", {}).get(\"ip\", []))\n",
    "        ips = find_all_ips(record, exclude_ips)\n",
    "        for ip in ips:\n",
    "            print(f\"Nuovo IP trovato: {ip}\")\n",
    "            record[\"related\"][\"ip\"].append(ip)\n",
    "            \n",
    "    write_json_file(data, dest_path) # Scrivere il nuovo file\n",
    "    print(f\"Nuovo file JSON creato: {dest_path}\")\n",
    "\n",
    "\n",
    "def calculate_sha256(data):\n",
    "    if isinstance(data, str):\n",
    "        data = data.encode()\n",
    "    sha256_hash = hashlib.sha256(data).hexdigest()\n",
    "    return sha256_hash\n",
    "\n",
    "def find_with_dest_ip(timestamp_start,timestamp_end,source_ip,dest_ip,darktrace_row,corresponding_records):\n",
    "    for row_index, row_record in enumerate(darktrace_row):                    \n",
    "        if ((row_record.get('@timestamp') >= timestamp_start and\n",
    "            row_record.get('@timestamp') <= timestamp_end) and \n",
    "            row_record.get('source_ip') == calculate_sha256(source_ip) and \n",
    "            row_record.get('dest_ip') == calculate_sha256(dest_ip)):\n",
    "            corresponding_records.append(row_record)\n",
    "            row_record['label'] = 1  \n",
    "        else:\n",
    "            if 'label' not in row_record:\n",
    "                row_record['label'] = 0 \n",
    "    return corresponding_records\n",
    "\n",
    "def find_without_dest_ip(timestamp_start,timestamp_end,source_ip,darktrace_row,corresponding_records):\n",
    "    for row_index, row_record in enumerate(darktrace_row):                    \n",
    "        if ((row_record.get('@timestamp') >= timestamp_start and\n",
    "            row_record.get('@timestamp') <= timestamp_end) and \n",
    "            row_record.get('source_ip') == calculate_sha256(source_ip)):\n",
    "            corresponding_records.append(row_record)\n",
    "            row_record['label'] = 1  \n",
    "        else:\n",
    "            if 'label' not in row_record:\n",
    "                row_record['label'] = 0  \n",
    "\n",
    "    return corresponding_records\n",
    "\n",
    "\n",
    "def create_dataset(file,path):\n",
    "    with open(path, 'w') as outfile:\n",
    "        for record in file:\n",
    "            outfile.write(json.dumps(record)+'\\n')              \n",
    "   \n",
    "\n",
    "def find_corresponding_raw_record(darktrace_ai_analyst, darktrace_row, new_path):\n",
    "    corresponding_records = {}\n",
    "\n",
    "    for index, record in enumerate(darktrace_ai_analyst):\n",
    "        source_ip = record[\"related\"][\"ip\"][0]\n",
    "        timestamp_start = record[\"event\"][\"start\"][0][:-5]\n",
    "        timestamp_end = record[\"event\"][\"end\"][0][:-5]\n",
    "\n",
    "        corresponding_records[index] = []\n",
    "        dest_ip = None\n",
    "        if len(record[\"related\"][\"ip\"]) > 1:\n",
    "            for ip in record[\"related\"][\"ip\"][1:]:\n",
    "                dest_ip = ip\n",
    "                result=[]\n",
    "                result=find_with_dest_ip(timestamp_start,timestamp_end,source_ip,dest_ip,darktrace_row, result)\n",
    "                if result:\n",
    "                    for r in result:           \n",
    "                        corresponding_records[index].append(r)\n",
    "        else:\n",
    "            result=[]\n",
    "            result=find_without_dest_ip(timestamp_start,timestamp_end,source_ip,darktrace_row,result)\n",
    "            if result:\n",
    "                for r in result:\n",
    "                    corresponding_records[index]=r\n",
    "        \n",
    "        if not corresponding_records[index]:\n",
    "            corresponding_records.pop(index)\n",
    "\n",
    "    for index, record in corresponding_records.items():\n",
    "        print(f\"Record di darktrace_ai analizzato {index}:\")\n",
    "        print(\"  Analizzato:\", darktrace_ai_analyst[index])\n",
    "        print(\"  darktrace_row corrispondente:\", record)\n",
    "        print(\"  numero di darktrace_row corrispondente:\", len(record))\n",
    "        print()\n",
    "    \n",
    "    create_dataset(darktrace_row, new_path)\n",
    "\n",
    "    return corresponding_records\n",
    "\n",
    "def create_record(path):\n",
    "    data=[]\n",
    "    with open(path, 'r') as file:\n",
    "        for line in file:\n",
    "            record = json.loads(line.strip())\n",
    "            data.append(record)\n",
    "    return data\n"
   ]
  },
  {
   "cell_type": "code",
   "execution_count": 32,
   "metadata": {},
   "outputs": [
    {
     "name": "stdout",
     "output_type": "stream",
     "text": [
      "Nuovo IP trovato: 13.107.138.10\n",
      "Nuovo IP trovato: 69.30.89.30\n",
      "Nuovo IP trovato: 89.44.168.16\n",
      "Nuovo IP trovato: 89.44.168.58\n",
      "Nuovo IP trovato: 185.206.26.132\n",
      "Nuovo IP trovato: 185.206.26.17\n",
      "Nuovo IP trovato: 94.24.37.43\n",
      "Nuovo IP trovato: 89.44.168.196\n",
      "Nuovo IP trovato: 89.44.168.212\n",
      "Nuovo IP trovato: 185.206.24.31\n",
      "Nuovo IP trovato: 89.44.168.221\n",
      "Nuovo IP trovato: 89.44.168.240\n",
      "Nuovo IP trovato: 89.44.168.242\n",
      "Nuovo IP trovato: 89.44.168.229\n",
      "Nuovo IP trovato: 185.206.24.30\n",
      "Nuovo IP trovato: 89.44.168.213\n",
      "Nuovo IP trovato: 188.79.136.14\n",
      "Nuovo IP trovato: 79.18.24.152\n",
      "Nuovo IP trovato: 95.252.72.189\n",
      "Nuovo IP trovato: 138.22.179.152\n",
      "Nuovo IP trovato: 198.244.186.241\n",
      "Nuovo IP trovato: 198.244.186.243\n",
      "Nuovo IP trovato: 141.95.49.174\n",
      "Nuovo IP trovato: 93.33.57.83\n",
      "Nuovo IP trovato: 93.36.119.216\n",
      "Nuovo IP trovato: 93.40.53.41\n",
      "Nuovo IP trovato: 141.95.49.174\n",
      "Nuovo IP trovato: 57.128.133.58\n",
      "Nuovo IP trovato: 37.134.57.241\n",
      "Nuovo IP trovato: 79.49.184.106\n",
      "Nuovo IP trovato: 95.252.72.189\n",
      "Nuovo IP trovato: 79.56.208.96\n",
      "Nuovo IP trovato: 79.18.24.152\n",
      "Nuovo IP trovato: 79.50.54.116\n",
      "Nuovo file JSON creato: ../../../../enea/dati_simulazione/train_ssh/02_10_ai_con_ip.json\n"
     ]
    }
   ],
   "source": [
    "path='../../../../enea/dati_simulazione/train_ssh/02_10_ai.json'\n",
    "new_path='../../../../enea/dati_simulazione/train_ssh/02_10_ai_con_ip.json'\n",
    "#path='../../../../enea/dati_simulazione/04_10_ai.json'\n",
    "#new_path='../../../../enea/dati_simulazione/04_10_ai_con_ip.json'\n",
    "data=read_json_file(path)\n",
    "add_ip_to_record(path,new_path)"
   ]
  },
  {
   "cell_type": "code",
   "execution_count": 33,
   "metadata": {},
   "outputs": [],
   "source": [
    "row_path='../../../../enea/dati_simulazione/train_ssh/ssh_02_10.json'\n",
    "#row_path='../../../../enea/dati_simulazione/ssh_04_10_label.json'\n",
    "darktrace_ai_analyst=create_record(new_path)\n",
    "darktrace_row=create_record(row_path)\n",
    "corresponding_records = find_corresponding_raw_record(darktrace_ai_analyst, darktrace_row,row_path)\n"
   ]
  },
  {
   "cell_type": "code",
   "execution_count": 34,
   "metadata": {},
   "outputs": [
    {
     "name": "stdout",
     "output_type": "stream",
     "text": [
      "0\n"
     ]
    }
   ],
   "source": [
    "count_attack(row_path)"
   ]
  }
 ],
 "metadata": {
  "kernelspec": {
   "display_name": "venv",
   "language": "python",
   "name": "python3"
  },
  "language_info": {
   "codemirror_mode": {
    "name": "ipython",
    "version": 3
   },
   "file_extension": ".py",
   "mimetype": "text/x-python",
   "name": "python",
   "nbconvert_exporter": "python",
   "pygments_lexer": "ipython3",
   "version": "3.11.9"
  }
 },
 "nbformat": 4,
 "nbformat_minor": 2
}
