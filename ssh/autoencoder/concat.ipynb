{
 "cells": [
  {
   "cell_type": "code",
   "execution_count": 1,
   "metadata": {},
   "outputs": [],
   "source": [
    "import pandas as pd\n",
    "import json"
   ]
  },
  {
   "cell_type": "code",
   "execution_count": 2,
   "metadata": {},
   "outputs": [],
   "source": [
    "def load_json(file_path, dataset):\n",
    "    with open(file_path, 'r') as file:\n",
    "        for line in file:\n",
    "            dataset.append(json.loads(line))\n",
    "    return dataset\n",
    "    \n",
    "def concat_datasets(df1, df2):\n",
    "    concatenated_df = pd.concat([df1, df2], ignore_index=True)\n",
    "    return concatenated_df\n",
    "\n",
    "def create_dataframe(source_path, dest_path):\n",
    "    df=[]\n",
    "    df = load_json(source_path, df)\n",
    "    df = pd.DataFrame(df)\n",
    "    df.to_csv(dest_path, index=False)\n",
    "    return df"
   ]
  },
  {
   "cell_type": "code",
   "execution_count": null,
   "metadata": {},
   "outputs": [],
   "source": [
    "train_file_path_23_09 = 'dati_simulazione/train_ssh/ssh_23_09.json'\n",
    "train_file_path_24_09 = 'dati_simulazione/train_ssh/ssh_24_09.json'\n",
    "train_file_path_25_09 = 'dati_simulazione/train_ssh/ssh_25_09.json'\n",
    "train_file_path_26_09 = 'dati_simulazione/train_ssh/ssh_26_09.json'\n",
    "train_file_path_27_09 = 'dati_simulazione/train_ssh/ssh_27_09.json'\n",
    "\n",
    "dataset_23_09 = create_dataframe(train_file_path_23_09, 'dati/dataset_23_09.csv')\n",
    "dataset_24_09 = create_dataframe(train_file_path_24_09, 'dati/dataset_24_09.csv')\n",
    "dataset_25_09 = create_dataframe(train_file_path_25_09, 'dati/dataset_25_09.csv')\n",
    "dataset_26_09 = create_dataframe(train_file_path_26_09, 'dati/dataset_26_09.csv')\n",
    "dataset_27_09 = create_dataframe(train_file_path_27_09, 'dati/dataset_27_09.csv')"
   ]
  },
  {
   "cell_type": "code",
   "execution_count": null,
   "metadata": {},
   "outputs": [],
   "source": [
    "dataset=concat_datasets(dataset_23_09, dataset_24_09)\n",
    "dataset=concat_datasets(dataset, dataset_25_09)\n",
    "dataset=concat_datasets(dataset, dataset_26_09)\n",
    "dataset=concat_datasets(dataset, dataset_27_09)\n",
    "dataset.to_csv('dati/dataset_train.csv', index=False)"
   ]
  }
 ],
 "metadata": {
  "kernelspec": {
   "display_name": "venv",
   "language": "python",
   "name": "python3"
  },
  "language_info": {
   "codemirror_mode": {
    "name": "ipython",
    "version": 3
   },
   "file_extension": ".py",
   "mimetype": "text/x-python",
   "name": "python",
   "nbconvert_exporter": "python",
   "pygments_lexer": "ipython3",
   "version": "3.11.9"
  }
 },
 "nbformat": 4,
 "nbformat_minor": 2
}
