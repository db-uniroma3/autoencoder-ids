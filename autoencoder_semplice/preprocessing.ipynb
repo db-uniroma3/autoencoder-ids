{
 "cells": [
  {
   "cell_type": "code",
   "execution_count": 1,
   "metadata": {},
   "outputs": [],
   "source": [
    "import pandas as pd\n",
    "from sklearn.impute import SimpleImputer\n",
    "from sklearn.preprocessing import MinMaxScaler\n",
    "from sklearn.model_selection import train_test_split\n",
    "import json\n",
    "import re"
   ]
  },
  {
   "cell_type": "code",
   "execution_count": 8,
   "metadata": {},
   "outputs": [],
   "source": [
    "def load_json(file_path, dataset):\n",
    "    with open(file_path, 'r') as file:\n",
    "        for line in file:\n",
    "            dataset.append(json.loads(line))\n",
    "    return dataset\n",
    "\n",
    "def is_ip_address(value):# Funzione per verificare se un valore è un indirizzo IP\n",
    "    ip_pattern = re.compile(r'^(\\d{1,3}\\.){3}\\d{1,3}$')\n",
    "    return bool(ip_pattern.match(value))\n",
    "\n",
    "def modify_host_column(dataset):# Modifica i valori della colonna 'host' in 1 se è un indirizzo IP, 0 altrimenti\n",
    "    val=dataset['host'].astype(str)\n",
    "    dataset['host'] = val.apply(lambda x: 1 if is_ip_address(x) else 0)\n",
    "    return dataset\n",
    "\n",
    "def remove_columns(dataset, numeric_columns, categorical_columns):\n",
    "    for column in dataset.columns:\n",
    "        if column not in numeric_columns and column not in categorical_columns and column != 'label':\n",
    "            dataset.drop(column, axis=1, inplace=True)\n",
    "    return dataset\n",
    "\n",
    "def replace_null_values(dataset, numeric_columns, categorical_columns,numeric_imputer, categorical_imputer):\n",
    "    dataset[numeric_columns] = numeric_imputer.fit_transform(dataset[numeric_columns])\n",
    "    dataset[categorical_columns] = categorical_imputer.fit_transform(dataset[categorical_columns])\n",
    "    return dataset\n",
    "\n",
    "def normalize_numeric_columns(dataset, numeric_columns):\n",
    "    scaler = MinMaxScaler()\n",
    "    dataset[numeric_columns] = scaler.fit_transform(dataset[numeric_columns])\n",
    "    return dataset\n",
    "\n",
    "def top_n(dataset, categorical_columns):\n",
    "    top_val = 10\n",
    "    for col in categorical_columns:\n",
    "        value_counts = dataset[col].value_counts()\n",
    "        top_n_categories = value_counts.index[:top_val].tolist()\n",
    "        dataset[col] = dataset[col].where(dataset[col].isin(top_n_categories), other='Other')\n",
    "    return dataset"
   ]
  },
  {
   "cell_type": "code",
   "execution_count": null,
   "metadata": {},
   "outputs": [],
   "source": [
    "train_file_path = 'dataset_train.json'\n",
    "dataset = []\n",
    "\n",
    "dataset=load_json(train_file_path, dataset)\n",
    "\n",
    "dataset = pd.DataFrame(dataset)"
   ]
  },
  {
   "cell_type": "code",
   "execution_count": null,
   "metadata": {},
   "outputs": [],
   "source": [
    "test_file_path='dataset_test.json'\n",
    "dataset_test = []\n",
    "\n",
    "dataset_test = load_json(test_file_path, dataset_test)\n",
    "\n",
    "dataset_test = pd.DataFrame(dataset_test)"
   ]
  },
  {
   "cell_type": "code",
   "execution_count": 5,
   "metadata": {},
   "outputs": [],
   "source": [
    "numeric_columns = ['request_body_len', 'trans_depth', 'response_body_len','host']\n",
    "categorical_columns=['dest_port', 'method', 'version', 'status_code', 'response_content_type', 'request_content_type']\n",
    "\n",
    "dataset=remove_columns(dataset, numeric_columns, categorical_columns)\n",
    "dataset=modify_host_column(dataset)\n",
    "\n",
    "dataset_test=remove_columns(dataset_test, numeric_columns, categorical_columns)\n",
    "dataset_test=modify_host_column(dataset_test)"
   ]
  },
  {
   "cell_type": "code",
   "execution_count": 6,
   "metadata": {},
   "outputs": [],
   "source": [
    "numeric_imputer = SimpleImputer(strategy='mean')\n",
    "categorical_imputer = SimpleImputer(strategy='most_frequent')\n",
    "\n",
    "dataset = replace_null_values(dataset, numeric_columns, categorical_columns, numeric_imputer, categorical_imputer)\n",
    "dataset = normalize_numeric_columns(dataset, numeric_columns)\n",
    "\n",
    "dataset_test = replace_null_values(dataset_test, numeric_columns, categorical_columns, numeric_imputer, categorical_imputer)\n",
    "dataset_test = normalize_numeric_columns(dataset_test, numeric_columns)\n"
   ]
  },
  {
   "cell_type": "code",
   "execution_count": 9,
   "metadata": {},
   "outputs": [],
   "source": [
    "dataset = top_n(dataset, categorical_columns)\n",
    "dataset_test = top_n(dataset_test, categorical_columns)\n",
    "\n",
    "# Codifica one-hot dei dai categorici\n",
    "categorical_encoded = pd.get_dummies(dataset[categorical_columns])\n",
    "categorical_encoded_test = pd.get_dummies(dataset_test[categorical_columns])\n",
    "\n",
    "dataset = dataset.drop(columns=categorical_columns, axis=1) # Rimozione delle colonne categoriche originali\n",
    "dataset = pd.concat([dataset, categorical_encoded], axis=1) # Concatenazione delle nuove colonne codificate\n",
    "\n",
    "\n",
    "dataset_test = dataset_test.drop(columns=categorical_columns, axis=1)  # Rimozione delle colonne categoriche originali \n",
    "dataset_test = pd.concat([dataset_test, categorical_encoded_test], axis=1) # Concatenazione delle nuove colonne codificate\n"
   ]
  },
  {
   "cell_type": "code",
   "execution_count": 11,
   "metadata": {},
   "outputs": [],
   "source": [
    "data_label_0 = dataset[dataset['label'] == 0]\n",
    "data_label_1 = dataset[dataset['label'] != 0]\n",
    "y_train=data_label_0['label']\n",
    "X_train=data_label_0.drop('label', axis=1)"
   ]
  },
  {
   "cell_type": "code",
   "execution_count": 12,
   "metadata": {},
   "outputs": [],
   "source": [
    "y_test = dataset_test['label']\n",
    "X_test = dataset_test.drop('label', axis=1)"
   ]
  },
  {
   "cell_type": "code",
   "execution_count": 13,
   "metadata": {},
   "outputs": [],
   "source": [
    "X_train = X_train.astype('float32')\n",
    "X_test = X_test.astype('float32')\n",
    "y_test = y_test.astype('float32')"
   ]
  },
  {
   "cell_type": "code",
   "execution_count": 14,
   "metadata": {},
   "outputs": [],
   "source": [
    "output_path = 'dati/X_train.json'\n",
    "X_train.to_json(output_path, orient='records', lines=True)\n",
    "\n",
    "output_path = 'dati/X_test.json'\n",
    "X_test.to_json(output_path, orient='records', lines=True)\n",
    "\n",
    "output_path = 'dati/y_test.json'\n",
    "y_test.to_json(output_path, orient='records', lines=True)\n",
    "\n",
    "output_path = 'dati/y_train.json'\n",
    "y_train.to_json(output_path, orient='records', lines=True)"
   ]
  },
  {
   "cell_type": "code",
   "execution_count": null,
   "metadata": {},
   "outputs": [],
   "source": [
    "X_train_df = pd.DataFrame(X_train)\n",
    "X_train_df.to_csv('dati/X_train.csv', index=False)\n",
    "print(X_train_df.head())\n",
    "\n",
    "X_test_df = pd.DataFrame(X_test)\n",
    "X_test_df.to_csv('dati/X_test.csv', index=False)\n",
    "print(X_test_df.head())\n",
    "\n",
    "y_test_df = pd.DataFrame(y_test)\n",
    "y_test_df.to_csv('dati/y_test.csv', index=False)\n",
    "print(y_test_df.head())\n",
    "\n",
    "y_train_df = pd.DataFrame(y_train)\n",
    "y_train_df.to_csv('dati/y_train.csv', index=False)\n",
    "print(y_train_df.head())"
   ]
  }
 ],
 "metadata": {
  "kernelspec": {
   "display_name": "venv",
   "language": "python",
   "name": "python3"
  },
  "language_info": {
   "codemirror_mode": {
    "name": "ipython",
    "version": 3
   },
   "file_extension": ".py",
   "mimetype": "text/x-python",
   "name": "python",
   "nbconvert_exporter": "python",
   "pygments_lexer": "ipython3",
   "version": "3.11.9"
  }
 },
 "nbformat": 4,
 "nbformat_minor": 2
}
