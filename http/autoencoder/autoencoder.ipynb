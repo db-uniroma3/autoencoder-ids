{
 "cells": [
  {
   "cell_type": "code",
   "execution_count": 16,
   "metadata": {},
   "outputs": [],
   "source": [
    "import numpy as np\n",
    "import tensorflow as tf\n",
    "import pandas as pd\n",
    "import seaborn as sns\n",
    "import matplotlib.pyplot as plt\n",
    "from keras.callbacks import EarlyStopping\n",
    "from sklearn.metrics import classification_report, accuracy_score, confusion_matrix, roc_curve, precision_recall_curve, auc"
   ]
  },
  {
   "cell_type": "code",
   "execution_count": 17,
   "metadata": {},
   "outputs": [],
   "source": [
    "def load_train_dataset(path_train):\n",
    "    X_train = pd.read_csv(path_train)\n",
    "    return X_train\n",
    "\n",
    "def load_test_dataset(path_X_test, path_y_test):\n",
    "    X_test = pd.read_csv(path_X_test)\n",
    "    y_test = pd.read_csv(path_y_test)\n",
    "    return X_test, y_test\n",
    "\n",
    "def crate_autoencoder(dataset):\n",
    "    input_dim=dataset.shape[1]\n",
    "    input_layer = tf.keras.Input(shape=(input_dim,))\n",
    "    encoder1 = tf.keras.layers.Dense(input_dim, activation='relu')(input_layer)\n",
    "    encoder2 = tf.keras.layers.Dense(int(input_dim/2), activation='relu')(encoder1)\n",
    "    encoder3 = tf.keras.layers.Dense(int(input_dim/4), activation='relu')(encoder2)\n",
    "    decoder1 = tf.keras.layers.Dense(int(input_dim/4), activation='relu')(encoder3)\n",
    "    decoder2 = tf.keras.layers.Dense(int(input_dim/2), activation='relu')(decoder1)\n",
    "    decoder3 = tf.keras.layers.Dense(input_dim, activation='relu')(decoder2)\n",
    "    output_layer = tf.keras.layers.Dense(input_dim, activation='sigmoid')(decoder3)\n",
    "    autoencoder = tf.keras.Model(inputs=input_layer, outputs=output_layer)\n",
    "    optimizer = tf.keras.optimizers.Adam()\n",
    "    autoencoder.compile(optimizer=optimizer, loss='mean_squared_error')\n",
    "    return autoencoder\n",
    "\n",
    "def training(autoencoder, X_train):\n",
    "    early_stop = EarlyStopping(monitor='val_loss', patience=10, restore_best_weights=True)\n",
    "    autoencoder.fit(X_train, X_train,\n",
    "                    epochs=100,\n",
    "                    batch_size=256,\n",
    "                    shuffle=True,\n",
    "                    validation_split=0.2,  # Usa il 20% dei dati di training per la validazione\n",
    "                    callbacks=[early_stop])\n",
    "    \n",
    "def calculate_loss(autoencoder, X_test):\n",
    "    reconstructions = autoencoder.predict(X_test)\n",
    "    loss = np.mean(np.square(reconstructions - X_test), axis=1)\n",
    "    return loss\n",
    "\n",
    "def curva_roc(y_test,loss):\n",
    "    fpr, tpr, thresholds_roc = roc_curve(y_test, loss)\n",
    "\n",
    "    roc_auc = auc(fpr, tpr)\n",
    "\n",
    "    optimal_threshold_index = np.argmax(tpr - fpr) #tpr-fpr è l'indice di Youden\n",
    "    best_threshold_roc = thresholds_roc[optimal_threshold_index]\n",
    "\n",
    "    print(\"AUC-ROC:\", roc_auc)\n",
    "    print(\"Best Threshold (ROC):\", best_threshold_roc)\n",
    "\n",
    "    plt.figure(figsize=(8, 6))\n",
    "    plt.plot(fpr, tpr, label='ROC Curve (AUC-ROC = %0.2f)' % roc_auc, color='b')\n",
    "    plt.scatter(fpr[optimal_threshold_index], tpr[optimal_threshold_index], color='red', marker='o', label='Optimal Threshold')\n",
    "    plt.plot([0, 1], [0, 1], linestyle='--', color='gray')\n",
    "    plt.xlabel('False Positive Rate')\n",
    "    plt.ylabel('True Positive Rate')\n",
    "    plt.title('Receiver Operating Characteristic (ROC) Curve')\n",
    "    plt.legend(loc='lower right')\n",
    "    plt.grid(True)\n",
    "    plt.show()\n",
    "    return best_threshold_roc\n",
    "\n",
    "def detect_anomaly(new_data, autoencoder, threshold):\n",
    "    reconstructions = autoencoder.predict(new_data)\n",
    "    loss = np.mean(np.square(reconstructions - new_data), axis=1)\n",
    "    anomalies = loss >= threshold\n",
    "    return anomalies\n",
    "\n",
    "def real_labels(y_test):\n",
    "    real_labels = y_test.to_numpy().astype(bool).flatten()\n",
    "    return real_labels\n",
    "\n",
    "def metrics(real_labels, predicted_labels):\n",
    "    cm = confusion_matrix(real_labels, predicted_labels)\n",
    "    sns.heatmap(cm, annot=True, fmt=\"d\")\n",
    "    plt.title(\"Confusion Matrix\")\n",
    "    plt.xlabel(\"Predicted\")\n",
    "    plt.ylabel(\"True\")\n",
    "    plt.show()\n",
    "    print(classification_report(real_labels, predicted_labels))\n",
    "    print(\"\\nAccuracy:\", accuracy_score(real_labels, predicted_labels))\n",
    "\n",
    "def feature_importance(autoencoder, X_test):\n",
    "    reconstructions = autoencoder.predict(X_test)\n",
    "    reconstruction_errors = np.square(reconstructions - X_test)\n",
    "    mean_feature_error = np.mean(reconstruction_errors, axis=0)\n",
    "    feature_names = X_test.columns\n",
    "    feature_error_dict = dict(zip(feature_names, mean_feature_error))\n",
    "    sorted_feature_error = sorted(feature_error_dict.items(), key=lambda x: x[1], reverse=True)\n",
    "    plt.figure(figsize=(10, 15))\n",
    "    plt.barh([x[0] for x in sorted_feature_error], [x[1] for x in sorted_feature_error])\n",
    "    plt.gca().invert_yaxis()\n",
    "    plt.xlabel('Mean Reconstruction Error')\n",
    "    plt.ylabel('Feature Name')\n",
    "    plt.title('Mean Reconstruction Error for Each Feature')\n",
    "    plt.show()"
   ]
  },
  {
   "cell_type": "code",
   "execution_count": null,
   "metadata": {},
   "outputs": [],
   "source": [
    "\"\"\"\n",
    "    Eseguire tutte le funzioni nell'ordine corretto:\n",
    "    1. Caricare i dataset -> load_train_dataset(path_train), load_test_dataset(path_X_test, path_y_test)\n",
    "    2. Creare l'autoencoder -> crate_autoencoder(dataset)\n",
    "    3. Allenare l'autoencoder -> training(autoencoder, X_train)\n",
    "    4. Calcolare la loss -> calculate_loss(autoencoder, X_test)\n",
    "    5. Calcolare la curva ROC per stabilire la soglia -> curva_roc(y_test, loss)\n",
    "    6. Rilevare le anomalie con la soglia calcolata-> detect_anomaly(new_data, autoencoder, threshold)\n",
    "    7. Ottenere le label reali -> real_labels(y_test)\n",
    "    8. Calcolare le metriche -> metrics(real_labels, predicted_labels)\n",
    "    9. Calcolare l'importanza delle feature -> feature_importance(autoencoder, X_test)\n",
    "\n",
    "\"\"\"\n",
    "\n",
    "\"\"\"\n",
    "    Esempio di utilizzo con un dataset di train e un solo dataset di test:\n",
    "    X_train = load_train_dataset('X_train.csv')\n",
    "    X_test, y_test = load_test_dataset('X_test.csv', 'y_test.csv')\n",
    "    autoencoder = crate_autoencoder(X_train)\n",
    "    training(autoencoder, X_train)\n",
    "    loss = calculate_loss(autoencoder, X_test)\n",
    "    threshold = curva_roc(y_test, loss)\n",
    "    predicted_labels = detect_anomaly(X_test, autoencoder, threshold)\n",
    "    real_labels = real_labels(y_test)\n",
    "    metrics(real_labels, predicted_labels)\n",
    "    feature_importance(autoencoder, X_test)\n",
    "\"\"\""
   ]
  },
  {
   "cell_type": "code",
   "execution_count": null,
   "metadata": {},
   "outputs": [],
   "source": [
    "X_train = load_train_dataset('X_train.csv')\n",
    "X_test_19, y_test_19 = load_test_dataset('X_test_19.csv', 'y_test_19.csv')\n",
    "X_test_04, y_test_04 = load_test_dataset('X_test_04.csv', 'y_test_04.csv')\n",
    "\n",
    "print(\"X_train:\", X_train.shape)\n",
    "print(\"X_test_19:\",X_test_19.shape)\n",
    "print(\"X_test_04:\",X_test_04.shape)"
   ]
  },
  {
   "cell_type": "code",
   "execution_count": 19,
   "metadata": {},
   "outputs": [
    {
     "data": {
      "text/html": [
       "<pre style=\"white-space:pre;overflow-x:auto;line-height:normal;font-family:Menlo,'DejaVu Sans Mono',consolas,'Courier New',monospace\"><span style=\"font-weight: bold\">Model: \"functional_5\"</span>\n",
       "</pre>\n"
      ],
      "text/plain": [
       "\u001b[1mModel: \"functional_5\"\u001b[0m\n"
      ]
     },
     "metadata": {},
     "output_type": "display_data"
    },
    {
     "data": {
      "text/html": [
       "<pre style=\"white-space:pre;overflow-x:auto;line-height:normal;font-family:Menlo,'DejaVu Sans Mono',consolas,'Courier New',monospace\">┏━━━━━━━━━━━━━━━━━━━━━━━━━━━━━━━━━┳━━━━━━━━━━━━━━━━━━━━━━━━┳━━━━━━━━━━━━━━━┓\n",
       "┃<span style=\"font-weight: bold\"> Layer (type)                    </span>┃<span style=\"font-weight: bold\"> Output Shape           </span>┃<span style=\"font-weight: bold\">       Param # </span>┃\n",
       "┡━━━━━━━━━━━━━━━━━━━━━━━━━━━━━━━━━╇━━━━━━━━━━━━━━━━━━━━━━━━╇━━━━━━━━━━━━━━━┩\n",
       "│ input_layer_2 (<span style=\"color: #0087ff; text-decoration-color: #0087ff\">InputLayer</span>)      │ (<span style=\"color: #00d7ff; text-decoration-color: #00d7ff\">None</span>, <span style=\"color: #00af00; text-decoration-color: #00af00\">72</span>)             │             <span style=\"color: #00af00; text-decoration-color: #00af00\">0</span> │\n",
       "├─────────────────────────────────┼────────────────────────┼───────────────┤\n",
       "│ dense_14 (<span style=\"color: #0087ff; text-decoration-color: #0087ff\">Dense</span>)                │ (<span style=\"color: #00d7ff; text-decoration-color: #00d7ff\">None</span>, <span style=\"color: #00af00; text-decoration-color: #00af00\">72</span>)             │         <span style=\"color: #00af00; text-decoration-color: #00af00\">5,256</span> │\n",
       "├─────────────────────────────────┼────────────────────────┼───────────────┤\n",
       "│ dense_15 (<span style=\"color: #0087ff; text-decoration-color: #0087ff\">Dense</span>)                │ (<span style=\"color: #00d7ff; text-decoration-color: #00d7ff\">None</span>, <span style=\"color: #00af00; text-decoration-color: #00af00\">36</span>)             │         <span style=\"color: #00af00; text-decoration-color: #00af00\">2,628</span> │\n",
       "├─────────────────────────────────┼────────────────────────┼───────────────┤\n",
       "│ dense_16 (<span style=\"color: #0087ff; text-decoration-color: #0087ff\">Dense</span>)                │ (<span style=\"color: #00d7ff; text-decoration-color: #00d7ff\">None</span>, <span style=\"color: #00af00; text-decoration-color: #00af00\">18</span>)             │           <span style=\"color: #00af00; text-decoration-color: #00af00\">666</span> │\n",
       "├─────────────────────────────────┼────────────────────────┼───────────────┤\n",
       "│ dense_17 (<span style=\"color: #0087ff; text-decoration-color: #0087ff\">Dense</span>)                │ (<span style=\"color: #00d7ff; text-decoration-color: #00d7ff\">None</span>, <span style=\"color: #00af00; text-decoration-color: #00af00\">18</span>)             │           <span style=\"color: #00af00; text-decoration-color: #00af00\">342</span> │\n",
       "├─────────────────────────────────┼────────────────────────┼───────────────┤\n",
       "│ dense_18 (<span style=\"color: #0087ff; text-decoration-color: #0087ff\">Dense</span>)                │ (<span style=\"color: #00d7ff; text-decoration-color: #00d7ff\">None</span>, <span style=\"color: #00af00; text-decoration-color: #00af00\">36</span>)             │           <span style=\"color: #00af00; text-decoration-color: #00af00\">684</span> │\n",
       "├─────────────────────────────────┼────────────────────────┼───────────────┤\n",
       "│ dense_19 (<span style=\"color: #0087ff; text-decoration-color: #0087ff\">Dense</span>)                │ (<span style=\"color: #00d7ff; text-decoration-color: #00d7ff\">None</span>, <span style=\"color: #00af00; text-decoration-color: #00af00\">72</span>)             │         <span style=\"color: #00af00; text-decoration-color: #00af00\">2,664</span> │\n",
       "├─────────────────────────────────┼────────────────────────┼───────────────┤\n",
       "│ dense_20 (<span style=\"color: #0087ff; text-decoration-color: #0087ff\">Dense</span>)                │ (<span style=\"color: #00d7ff; text-decoration-color: #00d7ff\">None</span>, <span style=\"color: #00af00; text-decoration-color: #00af00\">72</span>)             │         <span style=\"color: #00af00; text-decoration-color: #00af00\">5,256</span> │\n",
       "└─────────────────────────────────┴────────────────────────┴───────────────┘\n",
       "</pre>\n"
      ],
      "text/plain": [
       "┏━━━━━━━━━━━━━━━━━━━━━━━━━━━━━━━━━┳━━━━━━━━━━━━━━━━━━━━━━━━┳━━━━━━━━━━━━━━━┓\n",
       "┃\u001b[1m \u001b[0m\u001b[1mLayer (type)                   \u001b[0m\u001b[1m \u001b[0m┃\u001b[1m \u001b[0m\u001b[1mOutput Shape          \u001b[0m\u001b[1m \u001b[0m┃\u001b[1m \u001b[0m\u001b[1m      Param #\u001b[0m\u001b[1m \u001b[0m┃\n",
       "┡━━━━━━━━━━━━━━━━━━━━━━━━━━━━━━━━━╇━━━━━━━━━━━━━━━━━━━━━━━━╇━━━━━━━━━━━━━━━┩\n",
       "│ input_layer_2 (\u001b[38;5;33mInputLayer\u001b[0m)      │ (\u001b[38;5;45mNone\u001b[0m, \u001b[38;5;34m72\u001b[0m)             │             \u001b[38;5;34m0\u001b[0m │\n",
       "├─────────────────────────────────┼────────────────────────┼───────────────┤\n",
       "│ dense_14 (\u001b[38;5;33mDense\u001b[0m)                │ (\u001b[38;5;45mNone\u001b[0m, \u001b[38;5;34m72\u001b[0m)             │         \u001b[38;5;34m5,256\u001b[0m │\n",
       "├─────────────────────────────────┼────────────────────────┼───────────────┤\n",
       "│ dense_15 (\u001b[38;5;33mDense\u001b[0m)                │ (\u001b[38;5;45mNone\u001b[0m, \u001b[38;5;34m36\u001b[0m)             │         \u001b[38;5;34m2,628\u001b[0m │\n",
       "├─────────────────────────────────┼────────────────────────┼───────────────┤\n",
       "│ dense_16 (\u001b[38;5;33mDense\u001b[0m)                │ (\u001b[38;5;45mNone\u001b[0m, \u001b[38;5;34m18\u001b[0m)             │           \u001b[38;5;34m666\u001b[0m │\n",
       "├─────────────────────────────────┼────────────────────────┼───────────────┤\n",
       "│ dense_17 (\u001b[38;5;33mDense\u001b[0m)                │ (\u001b[38;5;45mNone\u001b[0m, \u001b[38;5;34m18\u001b[0m)             │           \u001b[38;5;34m342\u001b[0m │\n",
       "├─────────────────────────────────┼────────────────────────┼───────────────┤\n",
       "│ dense_18 (\u001b[38;5;33mDense\u001b[0m)                │ (\u001b[38;5;45mNone\u001b[0m, \u001b[38;5;34m36\u001b[0m)             │           \u001b[38;5;34m684\u001b[0m │\n",
       "├─────────────────────────────────┼────────────────────────┼───────────────┤\n",
       "│ dense_19 (\u001b[38;5;33mDense\u001b[0m)                │ (\u001b[38;5;45mNone\u001b[0m, \u001b[38;5;34m72\u001b[0m)             │         \u001b[38;5;34m2,664\u001b[0m │\n",
       "├─────────────────────────────────┼────────────────────────┼───────────────┤\n",
       "│ dense_20 (\u001b[38;5;33mDense\u001b[0m)                │ (\u001b[38;5;45mNone\u001b[0m, \u001b[38;5;34m72\u001b[0m)             │         \u001b[38;5;34m5,256\u001b[0m │\n",
       "└─────────────────────────────────┴────────────────────────┴───────────────┘\n"
      ]
     },
     "metadata": {},
     "output_type": "display_data"
    },
    {
     "data": {
      "text/html": [
       "<pre style=\"white-space:pre;overflow-x:auto;line-height:normal;font-family:Menlo,'DejaVu Sans Mono',consolas,'Courier New',monospace\"><span style=\"font-weight: bold\"> Total params: </span><span style=\"color: #00af00; text-decoration-color: #00af00\">17,496</span> (68.34 KB)\n",
       "</pre>\n"
      ],
      "text/plain": [
       "\u001b[1m Total params: \u001b[0m\u001b[38;5;34m17,496\u001b[0m (68.34 KB)\n"
      ]
     },
     "metadata": {},
     "output_type": "display_data"
    },
    {
     "data": {
      "text/html": [
       "<pre style=\"white-space:pre;overflow-x:auto;line-height:normal;font-family:Menlo,'DejaVu Sans Mono',consolas,'Courier New',monospace\"><span style=\"font-weight: bold\"> Trainable params: </span><span style=\"color: #00af00; text-decoration-color: #00af00\">17,496</span> (68.34 KB)\n",
       "</pre>\n"
      ],
      "text/plain": [
       "\u001b[1m Trainable params: \u001b[0m\u001b[38;5;34m17,496\u001b[0m (68.34 KB)\n"
      ]
     },
     "metadata": {},
     "output_type": "display_data"
    },
    {
     "data": {
      "text/html": [
       "<pre style=\"white-space:pre;overflow-x:auto;line-height:normal;font-family:Menlo,'DejaVu Sans Mono',consolas,'Courier New',monospace\"><span style=\"font-weight: bold\"> Non-trainable params: </span><span style=\"color: #00af00; text-decoration-color: #00af00\">0</span> (0.00 B)\n",
       "</pre>\n"
      ],
      "text/plain": [
       "\u001b[1m Non-trainable params: \u001b[0m\u001b[38;5;34m0\u001b[0m (0.00 B)\n"
      ]
     },
     "metadata": {},
     "output_type": "display_data"
    }
   ],
   "source": [
    "autoencoder=crate_autoencoder(X_train)\n",
    "autoencoder.summary()"
   ]
  },
  {
   "cell_type": "code",
   "execution_count": null,
   "metadata": {},
   "outputs": [],
   "source": [
    "training(autoencoder, X_train)"
   ]
  },
  {
   "cell_type": "code",
   "execution_count": null,
   "metadata": {},
   "outputs": [],
   "source": [
    "loss_19 = calculate_loss(autoencoder, X_test_19)\n",
    "loss_04 = calculate_loss(autoencoder, X_test_04)"
   ]
  },
  {
   "cell_type": "code",
   "execution_count": null,
   "metadata": {},
   "outputs": [],
   "source": [
    "#19_07\n",
    "threshold_roc_19=curva_roc(y_test_19,loss_19)\n",
    "predicted_labels_roc_19 = detect_anomaly(X_test_19, autoencoder, threshold_roc_19)\n",
    "\n",
    "#04_10\n",
    "threshold_roc_04=curva_roc(y_test_04,loss_04)\n",
    "predicted_labels_roc_04 = detect_anomaly(X_test_04, autoencoder, threshold_roc_04)"
   ]
  },
  {
   "cell_type": "code",
   "execution_count": 23,
   "metadata": {},
   "outputs": [],
   "source": [
    "# Conversione delle etichette test in un array booleano dove True indica un'anomalia\n",
    "real_labels_19 = real_labels(y_test_19)\n",
    "real_labels_04 = real_labels(y_test_04)"
   ]
  },
  {
   "cell_type": "code",
   "execution_count": null,
   "metadata": {},
   "outputs": [],
   "source": [
    "metrics(real_labels_19, predicted_labels_roc_19)\n",
    "metrics(real_labels_04, predicted_labels_roc_04)\n"
   ]
  },
  {
   "cell_type": "code",
   "execution_count": null,
   "metadata": {},
   "outputs": [],
   "source": [
    "feature_importance(autoencoder, X_test_19)\n",
    "feature_importance(autoencoder, X_test_04)"
   ]
  }
 ],
 "metadata": {
  "kernelspec": {
   "display_name": "venv",
   "language": "python",
   "name": "python3"
  },
  "language_info": {
   "codemirror_mode": {
    "name": "ipython",
    "version": 3
   },
   "file_extension": ".py",
   "mimetype": "text/x-python",
   "name": "python",
   "nbconvert_exporter": "python",
   "pygments_lexer": "ipython3",
   "version": "3.11.9"
  }
 },
 "nbformat": 4,
 "nbformat_minor": 2
}
