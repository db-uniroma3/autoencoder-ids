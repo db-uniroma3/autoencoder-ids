{
 "cells": [
  {
   "cell_type": "code",
   "execution_count": 1,
   "metadata": {},
   "outputs": [],
   "source": [
    "import numpy as np\n",
    "import tensorflow as tf\n",
    "import pandas as pd\n",
    "from joblib import load\n",
    "from sklearn.metrics import classification_report, accuracy_score\n",
    "from sklearn.metrics import confusion_matrix\n",
    "from sklearn.preprocessing import MultiLabelBinarizer\n",
    "from sklearn.metrics import confusion_matrix\n",
    "from sklearn.metrics import roc_curve, precision_recall_curve, auc\n",
    "import seaborn as sns\n",
    "import matplotlib.pyplot as plt\n"
   ]
  },
  {
   "cell_type": "code",
   "execution_count": 45,
   "metadata": {},
   "outputs": [],
   "source": [
    "X_train = load('X_train_record.joblib')\n",
    "X_test = load('X_test_record.joblib')\n",
    "y_test = load('y_test_record.joblib')"
   ]
  },
  {
   "cell_type": "code",
   "execution_count": 46,
   "metadata": {},
   "outputs": [
    {
     "data": {
      "text/html": [
       "<pre style=\"white-space:pre;overflow-x:auto;line-height:normal;font-family:Menlo,'DejaVu Sans Mono',consolas,'Courier New',monospace\"><span style=\"font-weight: bold\">Model: \"functional_5\"</span>\n",
       "</pre>\n"
      ],
      "text/plain": [
       "\u001b[1mModel: \"functional_5\"\u001b[0m\n"
      ]
     },
     "metadata": {},
     "output_type": "display_data"
    },
    {
     "data": {
      "text/html": [
       "<pre style=\"white-space:pre;overflow-x:auto;line-height:normal;font-family:Menlo,'DejaVu Sans Mono',consolas,'Courier New',monospace\">┏━━━━━━━━━━━━━━━━━━━━━━━━━━━━━━━━━┳━━━━━━━━━━━━━━━━━━━━━━━━┳━━━━━━━━━━━━━━━┓\n",
       "┃<span style=\"font-weight: bold\"> Layer (type)                    </span>┃<span style=\"font-weight: bold\"> Output Shape           </span>┃<span style=\"font-weight: bold\">       Param # </span>┃\n",
       "┡━━━━━━━━━━━━━━━━━━━━━━━━━━━━━━━━━╇━━━━━━━━━━━━━━━━━━━━━━━━╇━━━━━━━━━━━━━━━┩\n",
       "│ input_layer_2 (<span style=\"color: #0087ff; text-decoration-color: #0087ff\">InputLayer</span>)      │ (<span style=\"color: #00d7ff; text-decoration-color: #00d7ff\">None</span>, <span style=\"color: #00af00; text-decoration-color: #00af00\">600</span>, <span style=\"color: #00af00; text-decoration-color: #00af00\">87</span>)        │             <span style=\"color: #00af00; text-decoration-color: #00af00\">0</span> │\n",
       "├─────────────────────────────────┼────────────────────────┼───────────────┤\n",
       "│ lstm_4 (<span style=\"color: #0087ff; text-decoration-color: #0087ff\">LSTM</span>)                   │ (<span style=\"color: #00d7ff; text-decoration-color: #00d7ff\">None</span>, <span style=\"color: #00af00; text-decoration-color: #00af00\">300</span>)            │       <span style=\"color: #00af00; text-decoration-color: #00af00\">465,600</span> │\n",
       "├─────────────────────────────────┼────────────────────────┼───────────────┤\n",
       "│ repeat_vector_2 (<span style=\"color: #0087ff; text-decoration-color: #0087ff\">RepeatVector</span>)  │ (<span style=\"color: #00d7ff; text-decoration-color: #00d7ff\">None</span>, <span style=\"color: #00af00; text-decoration-color: #00af00\">600</span>, <span style=\"color: #00af00; text-decoration-color: #00af00\">300</span>)       │             <span style=\"color: #00af00; text-decoration-color: #00af00\">0</span> │\n",
       "├─────────────────────────────────┼────────────────────────┼───────────────┤\n",
       "│ lstm_5 (<span style=\"color: #0087ff; text-decoration-color: #0087ff\">LSTM</span>)                   │ (<span style=\"color: #00d7ff; text-decoration-color: #00d7ff\">None</span>, <span style=\"color: #00af00; text-decoration-color: #00af00\">600</span>, <span style=\"color: #00af00; text-decoration-color: #00af00\">87</span>)        │       <span style=\"color: #00af00; text-decoration-color: #00af00\">135,024</span> │\n",
       "└─────────────────────────────────┴────────────────────────┴───────────────┘\n",
       "</pre>\n"
      ],
      "text/plain": [
       "┏━━━━━━━━━━━━━━━━━━━━━━━━━━━━━━━━━┳━━━━━━━━━━━━━━━━━━━━━━━━┳━━━━━━━━━━━━━━━┓\n",
       "┃\u001b[1m \u001b[0m\u001b[1mLayer (type)                   \u001b[0m\u001b[1m \u001b[0m┃\u001b[1m \u001b[0m\u001b[1mOutput Shape          \u001b[0m\u001b[1m \u001b[0m┃\u001b[1m \u001b[0m\u001b[1m      Param #\u001b[0m\u001b[1m \u001b[0m┃\n",
       "┡━━━━━━━━━━━━━━━━━━━━━━━━━━━━━━━━━╇━━━━━━━━━━━━━━━━━━━━━━━━╇━━━━━━━━━━━━━━━┩\n",
       "│ input_layer_2 (\u001b[38;5;33mInputLayer\u001b[0m)      │ (\u001b[38;5;45mNone\u001b[0m, \u001b[38;5;34m600\u001b[0m, \u001b[38;5;34m87\u001b[0m)        │             \u001b[38;5;34m0\u001b[0m │\n",
       "├─────────────────────────────────┼────────────────────────┼───────────────┤\n",
       "│ lstm_4 (\u001b[38;5;33mLSTM\u001b[0m)                   │ (\u001b[38;5;45mNone\u001b[0m, \u001b[38;5;34m300\u001b[0m)            │       \u001b[38;5;34m465,600\u001b[0m │\n",
       "├─────────────────────────────────┼────────────────────────┼───────────────┤\n",
       "│ repeat_vector_2 (\u001b[38;5;33mRepeatVector\u001b[0m)  │ (\u001b[38;5;45mNone\u001b[0m, \u001b[38;5;34m600\u001b[0m, \u001b[38;5;34m300\u001b[0m)       │             \u001b[38;5;34m0\u001b[0m │\n",
       "├─────────────────────────────────┼────────────────────────┼───────────────┤\n",
       "│ lstm_5 (\u001b[38;5;33mLSTM\u001b[0m)                   │ (\u001b[38;5;45mNone\u001b[0m, \u001b[38;5;34m600\u001b[0m, \u001b[38;5;34m87\u001b[0m)        │       \u001b[38;5;34m135,024\u001b[0m │\n",
       "└─────────────────────────────────┴────────────────────────┴───────────────┘\n"
      ]
     },
     "metadata": {},
     "output_type": "display_data"
    },
    {
     "data": {
      "text/html": [
       "<pre style=\"white-space:pre;overflow-x:auto;line-height:normal;font-family:Menlo,'DejaVu Sans Mono',consolas,'Courier New',monospace\"><span style=\"font-weight: bold\"> Total params: </span><span style=\"color: #00af00; text-decoration-color: #00af00\">600,624</span> (2.29 MB)\n",
       "</pre>\n"
      ],
      "text/plain": [
       "\u001b[1m Total params: \u001b[0m\u001b[38;5;34m600,624\u001b[0m (2.29 MB)\n"
      ]
     },
     "metadata": {},
     "output_type": "display_data"
    },
    {
     "data": {
      "text/html": [
       "<pre style=\"white-space:pre;overflow-x:auto;line-height:normal;font-family:Menlo,'DejaVu Sans Mono',consolas,'Courier New',monospace\"><span style=\"font-weight: bold\"> Trainable params: </span><span style=\"color: #00af00; text-decoration-color: #00af00\">600,624</span> (2.29 MB)\n",
       "</pre>\n"
      ],
      "text/plain": [
       "\u001b[1m Trainable params: \u001b[0m\u001b[38;5;34m600,624\u001b[0m (2.29 MB)\n"
      ]
     },
     "metadata": {},
     "output_type": "display_data"
    },
    {
     "data": {
      "text/html": [
       "<pre style=\"white-space:pre;overflow-x:auto;line-height:normal;font-family:Menlo,'DejaVu Sans Mono',consolas,'Courier New',monospace\"><span style=\"font-weight: bold\"> Non-trainable params: </span><span style=\"color: #00af00; text-decoration-color: #00af00\">0</span> (0.00 B)\n",
       "</pre>\n"
      ],
      "text/plain": [
       "\u001b[1m Non-trainable params: \u001b[0m\u001b[38;5;34m0\u001b[0m (0.00 B)\n"
      ]
     },
     "metadata": {},
     "output_type": "display_data"
    }
   ],
   "source": [
    "input_dim = 87 # Numero di features per ciascun record\n",
    "input_length = 600  # Lunghezza fissa delle sequenze\n",
    "\n",
    "input_layer = tf.keras.Input(shape=(input_length, input_dim))\n",
    "\n",
    "# Codificatore LSTM\n",
    "encoder = tf.keras.layers.LSTM(int(input_length/2))(input_layer)\n",
    "\n",
    "# Vettore di ripetizione\n",
    "repeat_vector = tf.keras.layers.RepeatVector(input_length)(encoder)\n",
    "\n",
    "# Decodificatore LSTM\n",
    "decoder = tf.keras.layers.LSTM(input_dim, return_sequences=True)(repeat_vector)\n",
    "\n",
    "autoencoder = tf.keras.Model(inputs=input_layer, outputs=decoder)\n",
    "\n",
    "optimizer = tf.keras.optimizers.Adam()\n",
    "\n",
    "autoencoder.compile(optimizer=optimizer, loss='mean_squared_error')\n",
    "\n",
    "# Stampa dell'architettura del modello\n",
    "autoencoder.summary()"
   ]
  },
  {
   "cell_type": "code",
   "execution_count": 47,
   "metadata": {},
   "outputs": [
    {
     "data": {
      "text/plain": [
       "<keras.src.callbacks.history.History at 0x208469d9390>"
      ]
     },
     "execution_count": 47,
     "metadata": {},
     "output_type": "execute_result"
    }
   ],
   "source": [
    "autoencoder.fit(X_train, X_train, epochs=30, batch_size=256, shuffle=True, verbose=0)"
   ]
  },
  {
   "cell_type": "code",
   "execution_count": 7,
   "metadata": {},
   "outputs": [],
   "source": [
    "autoencoder.save(\"autoencoder.keras\")"
   ]
  },
  {
   "cell_type": "code",
   "execution_count": 48,
   "metadata": {},
   "outputs": [
    {
     "name": "stdout",
     "output_type": "stream",
     "text": [
      "\u001b[1m49/49\u001b[0m \u001b[32m━━━━━━━━━━━━━━━━━━━━\u001b[0m\u001b[37m\u001b[0m \u001b[1m15s\u001b[0m 302ms/step\n"
     ]
    }
   ],
   "source": [
    "reconstructions = autoencoder.predict(X_test)\n",
    "\n",
    "loss = []\n",
    "for i in range(len(X_test)): \n",
    "    loss_list=[]\n",
    "    for j in range(len(X_test[i])):\n",
    "        loss_value = np.mean(np.abs(reconstructions[i][j] - X_test[i][j]))\n",
    "        loss_list.append(loss_value)\n",
    "    loss.append(loss_list)"
   ]
  },
  {
   "cell_type": "code",
   "execution_count": 49,
   "metadata": {},
   "outputs": [],
   "source": [
    "def curva_precision_recall(y_test, loss):\n",
    "    precision, recall, thresholds_pr = precision_recall_curve(y_test, loss)\n",
    "    auc_pr = auc(recall, precision)\n",
    "\n",
    "    # Trova il threshold ottimale che massimizza l'F1-score\n",
    "    f1_scores = 2 * (precision * recall) / (precision + recall)\n",
    "    best_threshold_pr = thresholds_pr[np.argmax(f1_scores)]\n",
    "\n",
    "    print(\"AUC-PR:\", auc_pr)\n",
    "    print(\"Best Threshold (Precision-Recall):\", best_threshold_pr)\n",
    "\n",
    "    # Grafico della curva Precision-Recall\n",
    "    plt.figure(figsize=(8, 6))\n",
    "    plt.plot(recall, precision, label='Precision-Recall Curve (AUC-PR = %0.2f)' % auc_pr, color='b')\n",
    "    plt.scatter(recall[np.argmax(f1_scores)], precision[np.argmax(f1_scores)], color='red', marker='o', label='Best F1-Score')\n",
    "    plt.xlabel('Recall')\n",
    "    plt.ylabel('Precision')\n",
    "    plt.title('Precision-Recall Curve')\n",
    "    plt.legend(loc='lower left')\n",
    "    plt.grid(True)\n",
    "    plt.show()\n",
    "    \n",
    "    return best_threshold_pr"
   ]
  },
  {
   "cell_type": "code",
   "execution_count": 50,
   "metadata": {},
   "outputs": [],
   "source": [
    "# Calcola la curva ROC\n",
    "def curva_roc(y_test,loss):\n",
    "    fpr, tpr, thresholds_roc = roc_curve(y_test, loss)\n",
    "\n",
    "    # Calcola l'AUC-ROC\n",
    "    roc_auc = auc(fpr, tpr)\n",
    "\n",
    "    # Trova il miglior threshold utilizzando l'AUC-ROC\n",
    "    optimal_threshold_index = np.argmax(tpr - fpr) #tpr-fpr è l'indice di Youden\n",
    "    best_threshold_roc = thresholds_roc[optimal_threshold_index]\n",
    "\n",
    "    print(\"AUC-ROC:\", roc_auc)\n",
    "    print(\"Best Threshold (ROC):\", best_threshold_roc)\n",
    "\n",
    "    # Grafico della curva ROC\n",
    "    plt.figure(figsize=(8, 6))\n",
    "    plt.plot(fpr, tpr, label='ROC Curve (AUC-ROC = %0.2f)' % roc_auc, color='b')\n",
    "    plt.scatter(fpr[optimal_threshold_index], tpr[optimal_threshold_index], color='red', marker='o', label='Optimal Threshold')\n",
    "    plt.plot([0, 1], [0, 1], linestyle='--', color='gray')\n",
    "    plt.xlabel('False Positive Rate')\n",
    "    plt.ylabel('True Positive Rate')\n",
    "    plt.title('Receiver Operating Characteristic (ROC) Curve')\n",
    "    plt.legend(loc='lower right')\n",
    "    plt.grid(True)\n",
    "    plt.show()\n",
    "    \n",
    "    return best_threshold_roc"
   ]
  },
  {
   "cell_type": "code",
   "execution_count": 51,
   "metadata": {},
   "outputs": [],
   "source": [
    "def detect_anomaly(new_data, autoencoder, threshold):\n",
    "    reconstructions = autoencoder.predict(new_data)\n",
    "    anomalies=[]\n",
    "    for i in range(len(X_test)):\n",
    "        anomalie=[]\n",
    "        for j in range(len(X_test[i])):\n",
    "            loss = np.mean(np.abs(reconstructions[i][j] - X_test[i][j]))\n",
    "            anomalie.append(loss >= threshold)\n",
    "        anomalies.append(anomalie)\n",
    "    return anomalies"
   ]
  },
  {
   "cell_type": "code",
   "execution_count": 52,
   "metadata": {},
   "outputs": [
    {
     "name": "stdout",
     "output_type": "stream",
     "text": [
      "AUC-PR: 0.2630030252345186\n",
      "Best Threshold (Precision-Recall): 0.07665403\n"
     ]
    },
    {
     "name": "stderr",
     "output_type": "stream",
     "text": [
      "C:\\Users\\fraia\\AppData\\Local\\Temp\\ipykernel_16944\\200469842.py:8: RuntimeWarning: invalid value encountered in divide\n",
      "  f1_scores = 2 * (precision * recall) / (precision + recall)\n"
     ]
    }
   ],
   "source": [
    "all_losses = np.concatenate(loss)\n",
    "all_labels = np.concatenate(y_test)\n",
    "\n",
    "threshold_precision_recall=curva_precision_recall(all_labels,all_losses)\n",
    "threshold_auc_roc=curva_roc(all_labels,all_losses)"
   ]
  },
  {
   "cell_type": "code",
   "execution_count": 53,
   "metadata": {},
   "outputs": [
    {
     "name": "stdout",
     "output_type": "stream",
     "text": [
      "Threshold PR: 0.07665403\n",
      "Threshold ROC: 0.07236096\n"
     ]
    }
   ],
   "source": [
    "print(\"Threshold PR:\", threshold_precision_recall)\n",
    "print(\"Threshold ROC:\", threshold_auc_roc)"
   ]
  },
  {
   "cell_type": "code",
   "execution_count": 57,
   "metadata": {},
   "outputs": [
    {
     "name": "stdout",
     "output_type": "stream",
     "text": [
      "\u001b[1m49/49\u001b[0m \u001b[32m━━━━━━━━━━━━━━━━━━━━\u001b[0m\u001b[37m\u001b[0m \u001b[1m20s\u001b[0m 402ms/step\n"
     ]
    }
   ],
   "source": [
    "predicted_labels_pr = detect_anomaly(X_test, autoencoder, threshold_precision_recall)\n",
    "predicted_labels_roc=detect_anomaly(X_test, autoencoder, threshold_auc_roc)"
   ]
  },
  {
   "cell_type": "code",
   "execution_count": 55,
   "metadata": {},
   "outputs": [
    {
     "name": "stdout",
     "output_type": "stream",
     "text": [
      "\n",
      "Accuracy Totale: 0.6130373230373231\n"
     ]
    },
    {
     "data": {
      "image/png": "[encoded data removed]",
      "text/plain": [
       "<Figure size 640x480 with 2 Axes>"
      ]
     },
     "metadata": {},
     "output_type": "display_data"
    },
    {
     "name": "stdout",
     "output_type": "stream",
     "text": [
      "              precision    recall  f1-score   support\n",
      "\n",
      "         0.0       0.76      0.76      0.76    752662\n",
      "         1.0       0.00      0.00      0.00    179738\n",
      "\n",
      "    accuracy                           0.61    932400\n",
      "   macro avg       0.38      0.38      0.38    932400\n",
      "weighted avg       0.61      0.61      0.61    932400\n",
      "\n",
      "\n",
      "Accuracy con pr: 0.6130373230373231\n"
     ]
    }
   ],
   "source": [
    "all_true_labels = np.concatenate(y_test)\n",
    "all_predicted_labels = np.concatenate(predicted_labels_pr)\n",
    "\n",
    "cm = confusion_matrix(all_true_labels, all_predicted_labels)\n",
    "\n",
    "# Visualizzare la matrice di confusione\n",
    "sns.heatmap(cm, annot=True, fmt=\"d\", cmap=\"Blues\")\n",
    "plt.title(\"Confusion Matrix PR\")\n",
    "plt.xlabel(\"Predicted\")\n",
    "plt.ylabel(\"True\")\n",
    "plt.show()\n",
    "\n",
    "print(classification_report(all_true_labels, all_predicted_labels))\n",
    "print(\"\\nAccuracy con pr:\", accuracy_score(all_true_labels, all_predicted_labels))"
   ]
  },
  {
   "cell_type": "code",
   "execution_count": 58,
   "metadata": {},
   "outputs": [
    {
     "data": {
      "image/png": "[encoded data removed]",
      "text/plain": [
       "<Figure size 640x480 with 2 Axes>"
      ]
     },
     "metadata": {},
     "output_type": "display_data"
    },
    {
     "name": "stdout",
     "output_type": "stream",
     "text": [
      "              precision    recall  f1-score   support\n",
      "\n",
      "         0.0       0.99      0.69      0.81    752662\n",
      "         1.0       0.42      0.97      0.59    179738\n",
      "\n",
      "    accuracy                           0.74    932400\n",
      "   macro avg       0.71      0.83      0.70    932400\n",
      "weighted avg       0.88      0.74      0.77    932400\n",
      "\n",
      "\n",
      "Accuracy con ROC: 0.7404783354783355\n"
     ]
    }
   ],
   "source": [
    "all_true_labels = np.concatenate(y_test) \n",
    "all_predicted_labels = np.concatenate(predicted_labels_roc)\n",
    "\n",
    "cm = confusion_matrix(all_true_labels, all_predicted_labels)\n",
    "\n",
    "# Visualizzare la matrice di confusione\n",
    "sns.heatmap(cm, annot=True, fmt=\"d\", cmap=\"Blues\")\n",
    "plt.title(\"Confusion Matrix ROC\")\n",
    "plt.xlabel(\"Predicted\")\n",
    "plt.ylabel(\"True\")\n",
    "plt.show()\n",
    "\n",
    "# Calcolo della precisione testuale con pr\n",
    "print(classification_report(all_true_labels, all_predicted_labels))\n",
    "print(\"\\nAccuracy con ROC:\", accuracy_score(all_true_labels, all_predicted_labels))"
   ]
  }
 ],
 "metadata": {
  "kernelspec": {
   "display_name": "venv",
   "language": "python",
   "name": "python3"
  },
  "language_info": {
   "codemirror_mode": {
    "name": "ipython",
    "version": 3
   },
   "file_extension": ".py",
   "mimetype": "text/x-python",
   "name": "python",
   "nbconvert_exporter": "python",
   "pygments_lexer": "ipython3",
   "version": "3.11.9"
  }
 },
 "nbformat": 4,
 "nbformat_minor": 2
}
